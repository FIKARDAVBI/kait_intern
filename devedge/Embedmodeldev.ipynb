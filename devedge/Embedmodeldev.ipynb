{
 "cells": [
  {
   "cell_type": "code",
   "execution_count": 1,
   "metadata": {},
   "outputs": [
    {
     "name": "stderr",
     "output_type": "stream",
     "text": [
      "2024-07-12 18:05:31.424415: I tensorflow/core/util/port.cc:110] oneDNN custom operations are on. You may see slightly different numerical results due to floating-point round-off errors from different computation orders. To turn them off, set the environment variable `TF_ENABLE_ONEDNN_OPTS=0`.\n",
      "2024-07-12 18:05:31.446400: I tensorflow/core/platform/cpu_feature_guard.cc:182] This TensorFlow binary is optimized to use available CPU instructions in performance-critical operations.\n",
      "To enable the following instructions: AVX2 AVX_VNNI FMA, in other operations, rebuild TensorFlow with the appropriate compiler flags.\n",
      "2024-07-12 18:05:31.747916: W tensorflow/compiler/tf2tensorrt/utils/py_utils.cc:38] TF-TRT Warning: Could not find TensorRT\n"
     ]
    }
   ],
   "source": [
    "import random\n",
    "import matplotlib.pyplot as plt\n",
    "import numpy as np\n",
    "import tensorflow as tf\n",
    "from collections import defaultdict\n",
    "from PIL import Image\n",
    "from sklearn.metrics import ConfusionMatrixDisplay\n",
    "from tensorflow import keras\n",
    "from keras import layers\n",
    "\n",
    "from keras.datasets import cifar10\n",
    "import keras\n",
    "from keras import layers\n",
    "from PIL import Image, ImageFilter\n",
    "from keras.datasets import mnist\n",
    "import numpy as np\n",
    "import glob\n",
    "from sklearn.model_selection import train_test_split\n",
    "from keras.utils import load_img, img_to_array\n",
    "import matplotlib.pyplot as plt\n",
    "from keras.layers import Input, Conv2D, Flatten, Dense, Conv2DTranspose, Reshape, Activation, LeakyReLU, MaxPooling2D, UpSampling2D\n",
    "from keras.models import Model\n",
    "from keras import backend as K\n",
    "from keras.optimizers import Adam\n",
    "import numpy as np\n",
    "import cv2"
   ]
  },
  {
   "cell_type": "code",
   "execution_count": 2,
   "metadata": {},
   "outputs": [],
   "source": [
    "RANDOM_SEED = 555\n",
    "tf.random.set_seed(RANDOM_SEED)\n",
    "np.random.seed(RANDOM_SEED)"
   ]
  },
  {
   "cell_type": "code",
   "execution_count": 3,
   "metadata": {},
   "outputs": [],
   "source": [
    "IMAGE_SIZE = 256\n",
    "\n",
    "def preprocess(array):\n",
    "    \"\"\"\n",
    "    Normalizes the supplied array and reshapes it into the appropriate format.\n",
    "    \"\"\"\n",
    "\n",
    "    #array = array.astype(\"float32\") / 255.0\n",
    "    array = np.reshape(array, (len(array), IMAGE_SIZE, IMAGE_SIZE, 3))\n",
    "    return array\n",
    "\n",
    "def one_depreprocess(array):\n",
    "    \"\"\"\n",
    "    Normalizes the supplied array and reshapes it into the appropriate format.\n",
    "    \"\"\"\n",
    "\n",
    "    array = array.astype(\"float32\") * 255.0\n",
    "    array = np.reshape(array, (IMAGE_SIZE, IMAGE_SIZE, 3))\n",
    "    return array\n",
    "\n",
    "def depreprocess(array):\n",
    "    \"\"\"\n",
    "    Normalizes the supplied array and reshapes it into the appropriate format.\n",
    "    \"\"\"\n",
    "\n",
    "    #array = array.astype(\"float32\") * 255.0\n",
    "    array = np.reshape(array, (len(array), IMAGE_SIZE, IMAGE_SIZE, 3))\n",
    "    return array"
   ]
  },
  {
   "cell_type": "code",
   "execution_count": 4,
   "metadata": {},
   "outputs": [
    {
     "name": "stdout",
     "output_type": "stream",
     "text": [
      "Number of class :  4\n"
     ]
    }
   ],
   "source": [
    "train_data_path = '/home/takanolab/proglams_python/data' \n",
    "image_size = IMAGE_SIZE \n",
    "color_setting = 3 \n",
    "folder = ['hatake','kawa','mori','tatemono'] \n",
    "class_number = len(folder)\n",
    "print('Number of class : ', str(class_number))"
   ]
  },
  {
   "cell_type": "code",
   "execution_count": 5,
   "metadata": {},
   "outputs": [
    {
     "name": "stdout",
     "output_type": "stream",
     "text": [
      "--- 読み込んだデータセットは /home/takanolab/proglams_python/data/hatake です。\n",
      "index:  0  num: 144\n",
      "--- 読み込んだデータセットは /home/takanolab/proglams_python/data/kawa です。\n",
      "index:  1  num: 144\n",
      "--- 読み込んだデータセットは /home/takanolab/proglams_python/data/mori です。\n",
      "index:  2  num: 144\n",
      "--- 読み込んだデータセットは /home/takanolab/proglams_python/data/tatemono です。\n",
      "index:  3  num: 144\n"
     ]
    }
   ],
   "source": [
    "X_image = []  \n",
    "Y_label = []\n",
    "for index, name in enumerate(folder):\n",
    "  read_data = train_data_path + '/' + name\n",
    "  files = glob.glob(read_data + '/*.png') #ここを変更。png形式のファイルを利用する場合のサンプルです。\n",
    "  print('--- 読み込んだデータセットは', read_data, 'です。')\n",
    "  num=0\n",
    "  for i, file in enumerate(files):\n",
    "    if color_setting == 1:\n",
    "      img = load_img(file, color_mode = 'grayscale' ,target_size=(image_size, image_size))  \n",
    "    elif color_setting == 3:\n",
    "      img = load_img(file, color_mode = 'rgb' ,target_size=(image_size, image_size))\n",
    "    array = img_to_array(img)\n",
    "    X_image.append(array)\n",
    "    num +=1\n",
    "    Y_label.append(index)\n",
    "  print('index: ',index,' num:',num)\n",
    "\n",
    "X_image = np.array(X_image)\n",
    "Y_label = np.array(Y_label)"
   ]
  },
  {
   "cell_type": "code",
   "execution_count": 6,
   "metadata": {},
   "outputs": [],
   "source": [
    "train_images, valid_images ,train_labels ,valid_labels = train_test_split(X_image,Y_label,test_size=0.20,shuffle = True)\n",
    "x_train = train_images\n",
    "y_train = train_labels\n",
    "x_test = valid_images\n",
    "y_test = valid_labels\n",
    "\n",
    "Z_DIM=100"
   ]
  },
  {
   "cell_type": "code",
   "execution_count": 7,
   "metadata": {},
   "outputs": [
    {
     "name": "stderr",
     "output_type": "stream",
     "text": [
      "2024-07-12 18:07:13.078307: I tensorflow/compiler/xla/stream_executor/cuda/cuda_gpu_executor.cc:996] successful NUMA node read from SysFS had negative value (-1), but there must be at least one NUMA node, so returning NUMA node zero. See more at https://github.com/torvalds/linux/blob/v6.0/Documentation/ABI/testing/sysfs-bus-pci#L344-L355\n",
      "2024-07-12 18:07:24.815670: I tensorflow/compiler/xla/stream_executor/cuda/cuda_gpu_executor.cc:996] successful NUMA node read from SysFS had negative value (-1), but there must be at least one NUMA node, so returning NUMA node zero. See more at https://github.com/torvalds/linux/blob/v6.0/Documentation/ABI/testing/sysfs-bus-pci#L344-L355\n",
      "2024-07-12 18:07:24.816152: I tensorflow/compiler/xla/stream_executor/cuda/cuda_gpu_executor.cc:996] successful NUMA node read from SysFS had negative value (-1), but there must be at least one NUMA node, so returning NUMA node zero. See more at https://github.com/torvalds/linux/blob/v6.0/Documentation/ABI/testing/sysfs-bus-pci#L344-L355\n",
      "2024-07-12 18:07:24.820961: I tensorflow/compiler/xla/stream_executor/cuda/cuda_gpu_executor.cc:996] successful NUMA node read from SysFS had negative value (-1), but there must be at least one NUMA node, so returning NUMA node zero. See more at https://github.com/torvalds/linux/blob/v6.0/Documentation/ABI/testing/sysfs-bus-pci#L344-L355\n",
      "2024-07-12 18:07:24.821378: I tensorflow/compiler/xla/stream_executor/cuda/cuda_gpu_executor.cc:996] successful NUMA node read from SysFS had negative value (-1), but there must be at least one NUMA node, so returning NUMA node zero. See more at https://github.com/torvalds/linux/blob/v6.0/Documentation/ABI/testing/sysfs-bus-pci#L344-L355\n",
      "2024-07-12 18:07:24.821675: I tensorflow/compiler/xla/stream_executor/cuda/cuda_gpu_executor.cc:996] successful NUMA node read from SysFS had negative value (-1), but there must be at least one NUMA node, so returning NUMA node zero. See more at https://github.com/torvalds/linux/blob/v6.0/Documentation/ABI/testing/sysfs-bus-pci#L344-L355\n",
      "2024-07-12 18:07:26.648021: I tensorflow/compiler/xla/stream_executor/cuda/cuda_gpu_executor.cc:996] successful NUMA node read from SysFS had negative value (-1), but there must be at least one NUMA node, so returning NUMA node zero. See more at https://github.com/torvalds/linux/blob/v6.0/Documentation/ABI/testing/sysfs-bus-pci#L344-L355\n",
      "2024-07-12 18:07:26.648135: I tensorflow/compiler/xla/stream_executor/cuda/cuda_gpu_executor.cc:996] successful NUMA node read from SysFS had negative value (-1), but there must be at least one NUMA node, so returning NUMA node zero. See more at https://github.com/torvalds/linux/blob/v6.0/Documentation/ABI/testing/sysfs-bus-pci#L344-L355\n",
      "2024-07-12 18:07:26.648189: I tensorflow/compiler/xla/stream_executor/cuda/cuda_gpu_executor.cc:996] successful NUMA node read from SysFS had negative value (-1), but there must be at least one NUMA node, so returning NUMA node zero. See more at https://github.com/torvalds/linux/blob/v6.0/Documentation/ABI/testing/sysfs-bus-pci#L344-L355\n",
      "2024-07-12 18:07:26.648238: I tensorflow/core/common_runtime/gpu/gpu_device.cc:1635] Created device /job:localhost/replica:0/task:0/device:GPU:0 with 22108 MB memory:  -> device: 0, name: NVIDIA GeForce RTX 3090, pci bus id: 0000:01:00.0, compute capability: 8.6\n"
     ]
    },
    {
     "name": "stdout",
     "output_type": "stream",
     "text": [
      "Model: \"model_2\"\n",
      "_________________________________________________________________\n",
      " Layer (type)                Output Shape              Param #   \n",
      "=================================================================\n",
      " encoder_input (InputLayer)  [(None, 256, 256, 3)]     0         \n",
      "                                                                 \n",
      " encoder_conv_0 (Conv2D)     (None, 256, 256, 3)       84        \n",
      "                                                                 \n",
      " leaky_re_lu (LeakyReLU)     (None, 256, 256, 3)       0         \n",
      "                                                                 \n",
      " encoder_conv_1 (Conv2D)     (None, 128, 128, 16)      448       \n",
      "                                                                 \n",
      " leaky_re_lu_1 (LeakyReLU)   (None, 128, 128, 16)      0         \n",
      "                                                                 \n",
      " encoder_conv_2 (Conv2D)     (None, 64, 64, 32)        4640      \n",
      "                                                                 \n",
      " leaky_re_lu_2 (LeakyReLU)   (None, 64, 64, 32)        0         \n",
      "                                                                 \n",
      " encoder_conv_3 (Conv2D)     (None, 32, 32, 64)        18496     \n",
      "                                                                 \n",
      " leaky_re_lu_3 (LeakyReLU)   (None, 32, 32, 64)        0         \n",
      "                                                                 \n",
      " encoder_conv_4 (Conv2D)     (None, 16, 16, 128)       73856     \n",
      "                                                                 \n",
      " leaky_re_lu_4 (LeakyReLU)   (None, 16, 16, 128)       0         \n",
      "                                                                 \n",
      " flatten (Flatten)           (None, 32768)             0         \n",
      "                                                                 \n",
      " encoder_output (Dense)      (None, 100)               3276900   \n",
      "                                                                 \n",
      " model_1 (Functional)        (None, 256, 256, 3)       3554467   \n",
      "                                                                 \n",
      "=================================================================\n",
      "Total params: 6,928,891\n",
      "Trainable params: 6,928,891\n",
      "Non-trainable params: 0\n",
      "_________________________________________________________________\n"
     ]
    }
   ],
   "source": [
    "def r_loss(y_true, y_pred):\n",
    "  return K.mean(K.square(K.log(y_true + 1) - K.log(y_pred + 1)), axis=-1)\n",
    "\n",
    "Encoder_model = keras.models.load_model(\"/home/takanolab/davbi/development/Public-2021065/ex1/newmodel/ex1_model1/\", custom_objects={\"r_loss\": r_loss })\n",
    "Encoder_model.summary()"
   ]
  },
  {
   "cell_type": "code",
   "execution_count": 8,
   "metadata": {},
   "outputs": [],
   "source": [
    "layer_name = 'encoder_output'\n",
    "intermediate_layer_model = Model(inputs=Encoder_model.input,\n",
    "                                 outputs=Encoder_model.get_layer(layer_name).output)"
   ]
  },
  {
   "cell_type": "code",
   "execution_count": 9,
   "metadata": {},
   "outputs": [
    {
     "name": "stdout",
     "output_type": "stream",
     "text": [
      "Model: \"model\"\n",
      "_________________________________________________________________\n",
      " Layer (type)                Output Shape              Param #   \n",
      "=================================================================\n",
      " encoder_input (InputLayer)  [(None, 256, 256, 3)]     0         \n",
      "                                                                 \n",
      " encoder_conv_0 (Conv2D)     (None, 256, 256, 3)       84        \n",
      "                                                                 \n",
      " leaky_re_lu (LeakyReLU)     (None, 256, 256, 3)       0         \n",
      "                                                                 \n",
      " encoder_conv_1 (Conv2D)     (None, 128, 128, 16)      448       \n",
      "                                                                 \n",
      " leaky_re_lu_1 (LeakyReLU)   (None, 128, 128, 16)      0         \n",
      "                                                                 \n",
      " encoder_conv_2 (Conv2D)     (None, 64, 64, 32)        4640      \n",
      "                                                                 \n",
      " leaky_re_lu_2 (LeakyReLU)   (None, 64, 64, 32)        0         \n",
      "                                                                 \n",
      " encoder_conv_3 (Conv2D)     (None, 32, 32, 64)        18496     \n",
      "                                                                 \n",
      " leaky_re_lu_3 (LeakyReLU)   (None, 32, 32, 64)        0         \n",
      "                                                                 \n",
      " encoder_conv_4 (Conv2D)     (None, 16, 16, 128)       73856     \n",
      "                                                                 \n",
      " leaky_re_lu_4 (LeakyReLU)   (None, 16, 16, 128)       0         \n",
      "                                                                 \n",
      " flatten (Flatten)           (None, 32768)             0         \n",
      "                                                                 \n",
      " encoder_output (Dense)      (None, 100)               3276900   \n",
      "                                                                 \n",
      "=================================================================\n",
      "Total params: 3,374,424\n",
      "Trainable params: 3,374,424\n",
      "Non-trainable params: 0\n",
      "_________________________________________________________________\n"
     ]
    }
   ],
   "source": [
    "intermediate_layer_model.summary()"
   ]
  },
  {
   "cell_type": "code",
   "execution_count": null,
   "metadata": {},
   "outputs": [],
   "source": [
    "intermediate_layer_model.save"
   ]
  }
 ],
 "metadata": {
  "kernelspec": {
   "display_name": "Python 3",
   "language": "python",
   "name": "python3"
  },
  "language_info": {
   "codemirror_mode": {
    "name": "ipython",
    "version": 3
   },
   "file_extension": ".py",
   "mimetype": "text/x-python",
   "name": "python",
   "nbconvert_exporter": "python",
   "pygments_lexer": "ipython3",
   "version": "3.8.19"
  }
 },
 "nbformat": 4,
 "nbformat_minor": 2
}
